{
  "nbformat": 4,
  "nbformat_minor": 0,
  "metadata": {
    "colab": {
      "name": "stockMarketPrediction.ipynb",
      "provenance": [],
      "collapsed_sections": [],
      "authorship_tag": "ABX9TyOFPOBsz0Yr573wiucUS3T3",
      "include_colab_link": true
    },
    "kernelspec": {
      "name": "python3",
      "display_name": "Python 3"
    },
    "language_info": {
      "name": "python"
    }
  },
  "cells": [
    {
      "cell_type": "markdown",
      "metadata": {
        "id": "view-in-github",
        "colab_type": "text"
      },
      "source": [
        "<a href=\"https://colab.research.google.com/github/SHRESTA-YARABOLU/-LGMVIP--DataScience/blob/main/stockMarketPrediction.ipynb\" target=\"_parent\"><img src=\"https://colab.research.google.com/assets/colab-badge.svg\" alt=\"Open In Colab\"/></a>"
      ]
    },
    {
      "cell_type": "code",
      "source": [
        "# LetsGroMore - August 2022\n",
        "# Shresta Yarabolu - Data Science Intern\n",
        "# Task 1.2 - Stock market prediction with python"
      ],
      "metadata": {
        "id": "MtEzqHRjWHUL"
      },
      "execution_count": 51,
      "outputs": []
    },
    {
      "cell_type": "code",
      "execution_count": null,
      "metadata": {
        "id": "4FQvaeJIh72d"
      },
      "outputs": [],
      "source": [
        "import pandas as pd\n",
        "import numpy as np \n",
        "import matplotlib.pyplot as plt\n",
        "import tensorflow as tf\n",
        "from sklearn.preprocessing import MinMaxScaler\n",
        "import warnings\n",
        "warnings.filterwarnings(\"ignore\")"
      ]
    },
    {
      "cell_type": "code",
      "source": [
        "dataset_link = \"https://raw.githubusercontent.com/mwitiderrick/stockprice/master/NSE-TATAGLOBAL.csv\"\n",
        "data = pd.read_csv(dataset_link)\n",
        "data.head()"
      ],
      "metadata": {
        "colab": {
          "base_uri": "https://localhost:8080/",
          "height": 206
        },
        "id": "TmYeAeaFh_8F",
        "outputId": "9d7326f1-78b6-4bfe-8184-c3748127af15"
      },
      "execution_count": null,
      "outputs": [
        {
          "output_type": "execute_result",
          "data": {
            "text/plain": [
              "         Date    Open    High     Low    Last   Close  Total Trade Quantity  \\\n",
              "0  2018-09-28  234.05  235.95  230.20  233.50  233.75               3069914   \n",
              "1  2018-09-27  234.55  236.80  231.10  233.80  233.25               5082859   \n",
              "2  2018-09-26  240.00  240.00  232.50  235.00  234.25               2240909   \n",
              "3  2018-09-25  233.30  236.75  232.00  236.25  236.10               2349368   \n",
              "4  2018-09-24  233.55  239.20  230.75  234.00  233.30               3423509   \n",
              "\n",
              "   Turnover (Lacs)  \n",
              "0          7162.35  \n",
              "1         11859.95  \n",
              "2          5248.60  \n",
              "3          5503.90  \n",
              "4          7999.55  "
            ],
            "text/html": [
              "\n",
              "  <div id=\"df-35e7b862-de8d-4d7f-894e-6c98b0c49d69\">\n",
              "    <div class=\"colab-df-container\">\n",
              "      <div>\n",
              "<style scoped>\n",
              "    .dataframe tbody tr th:only-of-type {\n",
              "        vertical-align: middle;\n",
              "    }\n",
              "\n",
              "    .dataframe tbody tr th {\n",
              "        vertical-align: top;\n",
              "    }\n",
              "\n",
              "    .dataframe thead th {\n",
              "        text-align: right;\n",
              "    }\n",
              "</style>\n",
              "<table border=\"1\" class=\"dataframe\">\n",
              "  <thead>\n",
              "    <tr style=\"text-align: right;\">\n",
              "      <th></th>\n",
              "      <th>Date</th>\n",
              "      <th>Open</th>\n",
              "      <th>High</th>\n",
              "      <th>Low</th>\n",
              "      <th>Last</th>\n",
              "      <th>Close</th>\n",
              "      <th>Total Trade Quantity</th>\n",
              "      <th>Turnover (Lacs)</th>\n",
              "    </tr>\n",
              "  </thead>\n",
              "  <tbody>\n",
              "    <tr>\n",
              "      <th>0</th>\n",
              "      <td>2018-09-28</td>\n",
              "      <td>234.05</td>\n",
              "      <td>235.95</td>\n",
              "      <td>230.20</td>\n",
              "      <td>233.50</td>\n",
              "      <td>233.75</td>\n",
              "      <td>3069914</td>\n",
              "      <td>7162.35</td>\n",
              "    </tr>\n",
              "    <tr>\n",
              "      <th>1</th>\n",
              "      <td>2018-09-27</td>\n",
              "      <td>234.55</td>\n",
              "      <td>236.80</td>\n",
              "      <td>231.10</td>\n",
              "      <td>233.80</td>\n",
              "      <td>233.25</td>\n",
              "      <td>5082859</td>\n",
              "      <td>11859.95</td>\n",
              "    </tr>\n",
              "    <tr>\n",
              "      <th>2</th>\n",
              "      <td>2018-09-26</td>\n",
              "      <td>240.00</td>\n",
              "      <td>240.00</td>\n",
              "      <td>232.50</td>\n",
              "      <td>235.00</td>\n",
              "      <td>234.25</td>\n",
              "      <td>2240909</td>\n",
              "      <td>5248.60</td>\n",
              "    </tr>\n",
              "    <tr>\n",
              "      <th>3</th>\n",
              "      <td>2018-09-25</td>\n",
              "      <td>233.30</td>\n",
              "      <td>236.75</td>\n",
              "      <td>232.00</td>\n",
              "      <td>236.25</td>\n",
              "      <td>236.10</td>\n",
              "      <td>2349368</td>\n",
              "      <td>5503.90</td>\n",
              "    </tr>\n",
              "    <tr>\n",
              "      <th>4</th>\n",
              "      <td>2018-09-24</td>\n",
              "      <td>233.55</td>\n",
              "      <td>239.20</td>\n",
              "      <td>230.75</td>\n",
              "      <td>234.00</td>\n",
              "      <td>233.30</td>\n",
              "      <td>3423509</td>\n",
              "      <td>7999.55</td>\n",
              "    </tr>\n",
              "  </tbody>\n",
              "</table>\n",
              "</div>\n",
              "      <button class=\"colab-df-convert\" onclick=\"convertToInteractive('df-35e7b862-de8d-4d7f-894e-6c98b0c49d69')\"\n",
              "              title=\"Convert this dataframe to an interactive table.\"\n",
              "              style=\"display:none;\">\n",
              "        \n",
              "  <svg xmlns=\"http://www.w3.org/2000/svg\" height=\"24px\"viewBox=\"0 0 24 24\"\n",
              "       width=\"24px\">\n",
              "    <path d=\"M0 0h24v24H0V0z\" fill=\"none\"/>\n",
              "    <path d=\"M18.56 5.44l.94 2.06.94-2.06 2.06-.94-2.06-.94-.94-2.06-.94 2.06-2.06.94zm-11 1L8.5 8.5l.94-2.06 2.06-.94-2.06-.94L8.5 2.5l-.94 2.06-2.06.94zm10 10l.94 2.06.94-2.06 2.06-.94-2.06-.94-.94-2.06-.94 2.06-2.06.94z\"/><path d=\"M17.41 7.96l-1.37-1.37c-.4-.4-.92-.59-1.43-.59-.52 0-1.04.2-1.43.59L10.3 9.45l-7.72 7.72c-.78.78-.78 2.05 0 2.83L4 21.41c.39.39.9.59 1.41.59.51 0 1.02-.2 1.41-.59l7.78-7.78 2.81-2.81c.8-.78.8-2.07 0-2.86zM5.41 20L4 18.59l7.72-7.72 1.47 1.35L5.41 20z\"/>\n",
              "  </svg>\n",
              "      </button>\n",
              "      \n",
              "  <style>\n",
              "    .colab-df-container {\n",
              "      display:flex;\n",
              "      flex-wrap:wrap;\n",
              "      gap: 12px;\n",
              "    }\n",
              "\n",
              "    .colab-df-convert {\n",
              "      background-color: #E8F0FE;\n",
              "      border: none;\n",
              "      border-radius: 50%;\n",
              "      cursor: pointer;\n",
              "      display: none;\n",
              "      fill: #1967D2;\n",
              "      height: 32px;\n",
              "      padding: 0 0 0 0;\n",
              "      width: 32px;\n",
              "    }\n",
              "\n",
              "    .colab-df-convert:hover {\n",
              "      background-color: #E2EBFA;\n",
              "      box-shadow: 0px 1px 2px rgba(60, 64, 67, 0.3), 0px 1px 3px 1px rgba(60, 64, 67, 0.15);\n",
              "      fill: #174EA6;\n",
              "    }\n",
              "\n",
              "    [theme=dark] .colab-df-convert {\n",
              "      background-color: #3B4455;\n",
              "      fill: #D2E3FC;\n",
              "    }\n",
              "\n",
              "    [theme=dark] .colab-df-convert:hover {\n",
              "      background-color: #434B5C;\n",
              "      box-shadow: 0px 1px 3px 1px rgba(0, 0, 0, 0.15);\n",
              "      filter: drop-shadow(0px 1px 2px rgba(0, 0, 0, 0.3));\n",
              "      fill: #FFFFFF;\n",
              "    }\n",
              "  </style>\n",
              "\n",
              "      <script>\n",
              "        const buttonEl =\n",
              "          document.querySelector('#df-35e7b862-de8d-4d7f-894e-6c98b0c49d69 button.colab-df-convert');\n",
              "        buttonEl.style.display =\n",
              "          google.colab.kernel.accessAllowed ? 'block' : 'none';\n",
              "\n",
              "        async function convertToInteractive(key) {\n",
              "          const element = document.querySelector('#df-35e7b862-de8d-4d7f-894e-6c98b0c49d69');\n",
              "          const dataTable =\n",
              "            await google.colab.kernel.invokeFunction('convertToInteractive',\n",
              "                                                     [key], {});\n",
              "          if (!dataTable) return;\n",
              "\n",
              "          const docLinkHtml = 'Like what you see? Visit the ' +\n",
              "            '<a target=\"_blank\" href=https://colab.research.google.com/notebooks/data_table.ipynb>data table notebook</a>'\n",
              "            + ' to learn more about interactive tables.';\n",
              "          element.innerHTML = '';\n",
              "          dataTable['output_type'] = 'display_data';\n",
              "          await google.colab.output.renderOutput(dataTable, element);\n",
              "          const docLink = document.createElement('div');\n",
              "          docLink.innerHTML = docLinkHtml;\n",
              "          element.appendChild(docLink);\n",
              "        }\n",
              "      </script>\n",
              "    </div>\n",
              "  </div>\n",
              "  "
            ]
          },
          "metadata": {},
          "execution_count": 30
        }
      ]
    },
    {
      "cell_type": "code",
      "source": [
        "data.isnull().sum()"
      ],
      "metadata": {
        "colab": {
          "base_uri": "https://localhost:8080/"
        },
        "id": "gHv90hCmiA9Q",
        "outputId": "d82ca9f2-b2ff-42e6-cdaf-1f9f731e8f74"
      },
      "execution_count": null,
      "outputs": [
        {
          "output_type": "execute_result",
          "data": {
            "text/plain": [
              "Date                    0\n",
              "Open                    0\n",
              "High                    0\n",
              "Low                     0\n",
              "Last                    0\n",
              "Close                   0\n",
              "Total Trade Quantity    0\n",
              "Turnover (Lacs)         0\n",
              "dtype: int64"
            ]
          },
          "metadata": {},
          "execution_count": 32
        }
      ]
    },
    {
      "cell_type": "code",
      "source": [
        "data['Date'] = pd.to_datetime(data['Date'])"
      ],
      "metadata": {
        "id": "fCbzG9XFiD0Y"
      },
      "execution_count": null,
      "outputs": []
    },
    {
      "cell_type": "code",
      "source": [
        "df = data.sort_values('Date')\n",
        "df.head()"
      ],
      "metadata": {
        "colab": {
          "base_uri": "https://localhost:8080/",
          "height": 206
        },
        "id": "xvr9hpoWiLsG",
        "outputId": "2a2b597e-48a8-4041-f637-31950336cb74"
      },
      "execution_count": null,
      "outputs": [
        {
          "output_type": "execute_result",
          "data": {
            "text/plain": [
              "           Date   Open    High     Low    Last   Close  Total Trade Quantity  \\\n",
              "2034 2010-07-21  122.1  123.00  121.05  121.10  121.55                658666   \n",
              "2033 2010-07-22  120.3  122.00  120.25  120.75  120.90                293312   \n",
              "2032 2010-07-23  121.8  121.95  120.25  120.35  120.65                281312   \n",
              "2031 2010-07-26  120.1  121.00  117.10  117.10  117.60                658440   \n",
              "2030 2010-07-27  117.6  119.50  112.00  118.80  118.65                586100   \n",
              "\n",
              "      Turnover (Lacs)  \n",
              "2034           803.56  \n",
              "2033           355.17  \n",
              "2032           340.31  \n",
              "2031           780.01  \n",
              "2030           694.98  "
            ],
            "text/html": [
              "\n",
              "  <div id=\"df-7af7eba7-9d9d-41c2-bf0e-089fb352e469\">\n",
              "    <div class=\"colab-df-container\">\n",
              "      <div>\n",
              "<style scoped>\n",
              "    .dataframe tbody tr th:only-of-type {\n",
              "        vertical-align: middle;\n",
              "    }\n",
              "\n",
              "    .dataframe tbody tr th {\n",
              "        vertical-align: top;\n",
              "    }\n",
              "\n",
              "    .dataframe thead th {\n",
              "        text-align: right;\n",
              "    }\n",
              "</style>\n",
              "<table border=\"1\" class=\"dataframe\">\n",
              "  <thead>\n",
              "    <tr style=\"text-align: right;\">\n",
              "      <th></th>\n",
              "      <th>Date</th>\n",
              "      <th>Open</th>\n",
              "      <th>High</th>\n",
              "      <th>Low</th>\n",
              "      <th>Last</th>\n",
              "      <th>Close</th>\n",
              "      <th>Total Trade Quantity</th>\n",
              "      <th>Turnover (Lacs)</th>\n",
              "    </tr>\n",
              "  </thead>\n",
              "  <tbody>\n",
              "    <tr>\n",
              "      <th>2034</th>\n",
              "      <td>2010-07-21</td>\n",
              "      <td>122.1</td>\n",
              "      <td>123.00</td>\n",
              "      <td>121.05</td>\n",
              "      <td>121.10</td>\n",
              "      <td>121.55</td>\n",
              "      <td>658666</td>\n",
              "      <td>803.56</td>\n",
              "    </tr>\n",
              "    <tr>\n",
              "      <th>2033</th>\n",
              "      <td>2010-07-22</td>\n",
              "      <td>120.3</td>\n",
              "      <td>122.00</td>\n",
              "      <td>120.25</td>\n",
              "      <td>120.75</td>\n",
              "      <td>120.90</td>\n",
              "      <td>293312</td>\n",
              "      <td>355.17</td>\n",
              "    </tr>\n",
              "    <tr>\n",
              "      <th>2032</th>\n",
              "      <td>2010-07-23</td>\n",
              "      <td>121.8</td>\n",
              "      <td>121.95</td>\n",
              "      <td>120.25</td>\n",
              "      <td>120.35</td>\n",
              "      <td>120.65</td>\n",
              "      <td>281312</td>\n",
              "      <td>340.31</td>\n",
              "    </tr>\n",
              "    <tr>\n",
              "      <th>2031</th>\n",
              "      <td>2010-07-26</td>\n",
              "      <td>120.1</td>\n",
              "      <td>121.00</td>\n",
              "      <td>117.10</td>\n",
              "      <td>117.10</td>\n",
              "      <td>117.60</td>\n",
              "      <td>658440</td>\n",
              "      <td>780.01</td>\n",
              "    </tr>\n",
              "    <tr>\n",
              "      <th>2030</th>\n",
              "      <td>2010-07-27</td>\n",
              "      <td>117.6</td>\n",
              "      <td>119.50</td>\n",
              "      <td>112.00</td>\n",
              "      <td>118.80</td>\n",
              "      <td>118.65</td>\n",
              "      <td>586100</td>\n",
              "      <td>694.98</td>\n",
              "    </tr>\n",
              "  </tbody>\n",
              "</table>\n",
              "</div>\n",
              "      <button class=\"colab-df-convert\" onclick=\"convertToInteractive('df-7af7eba7-9d9d-41c2-bf0e-089fb352e469')\"\n",
              "              title=\"Convert this dataframe to an interactive table.\"\n",
              "              style=\"display:none;\">\n",
              "        \n",
              "  <svg xmlns=\"http://www.w3.org/2000/svg\" height=\"24px\"viewBox=\"0 0 24 24\"\n",
              "       width=\"24px\">\n",
              "    <path d=\"M0 0h24v24H0V0z\" fill=\"none\"/>\n",
              "    <path d=\"M18.56 5.44l.94 2.06.94-2.06 2.06-.94-2.06-.94-.94-2.06-.94 2.06-2.06.94zm-11 1L8.5 8.5l.94-2.06 2.06-.94-2.06-.94L8.5 2.5l-.94 2.06-2.06.94zm10 10l.94 2.06.94-2.06 2.06-.94-2.06-.94-.94-2.06-.94 2.06-2.06.94z\"/><path d=\"M17.41 7.96l-1.37-1.37c-.4-.4-.92-.59-1.43-.59-.52 0-1.04.2-1.43.59L10.3 9.45l-7.72 7.72c-.78.78-.78 2.05 0 2.83L4 21.41c.39.39.9.59 1.41.59.51 0 1.02-.2 1.41-.59l7.78-7.78 2.81-2.81c.8-.78.8-2.07 0-2.86zM5.41 20L4 18.59l7.72-7.72 1.47 1.35L5.41 20z\"/>\n",
              "  </svg>\n",
              "      </button>\n",
              "      \n",
              "  <style>\n",
              "    .colab-df-container {\n",
              "      display:flex;\n",
              "      flex-wrap:wrap;\n",
              "      gap: 12px;\n",
              "    }\n",
              "\n",
              "    .colab-df-convert {\n",
              "      background-color: #E8F0FE;\n",
              "      border: none;\n",
              "      border-radius: 50%;\n",
              "      cursor: pointer;\n",
              "      display: none;\n",
              "      fill: #1967D2;\n",
              "      height: 32px;\n",
              "      padding: 0 0 0 0;\n",
              "      width: 32px;\n",
              "    }\n",
              "\n",
              "    .colab-df-convert:hover {\n",
              "      background-color: #E2EBFA;\n",
              "      box-shadow: 0px 1px 2px rgba(60, 64, 67, 0.3), 0px 1px 3px 1px rgba(60, 64, 67, 0.15);\n",
              "      fill: #174EA6;\n",
              "    }\n",
              "\n",
              "    [theme=dark] .colab-df-convert {\n",
              "      background-color: #3B4455;\n",
              "      fill: #D2E3FC;\n",
              "    }\n",
              "\n",
              "    [theme=dark] .colab-df-convert:hover {\n",
              "      background-color: #434B5C;\n",
              "      box-shadow: 0px 1px 3px 1px rgba(0, 0, 0, 0.15);\n",
              "      filter: drop-shadow(0px 1px 2px rgba(0, 0, 0, 0.3));\n",
              "      fill: #FFFFFF;\n",
              "    }\n",
              "  </style>\n",
              "\n",
              "      <script>\n",
              "        const buttonEl =\n",
              "          document.querySelector('#df-7af7eba7-9d9d-41c2-bf0e-089fb352e469 button.colab-df-convert');\n",
              "        buttonEl.style.display =\n",
              "          google.colab.kernel.accessAllowed ? 'block' : 'none';\n",
              "\n",
              "        async function convertToInteractive(key) {\n",
              "          const element = document.querySelector('#df-7af7eba7-9d9d-41c2-bf0e-089fb352e469');\n",
              "          const dataTable =\n",
              "            await google.colab.kernel.invokeFunction('convertToInteractive',\n",
              "                                                     [key], {});\n",
              "          if (!dataTable) return;\n",
              "\n",
              "          const docLinkHtml = 'Like what you see? Visit the ' +\n",
              "            '<a target=\"_blank\" href=https://colab.research.google.com/notebooks/data_table.ipynb>data table notebook</a>'\n",
              "            + ' to learn more about interactive tables.';\n",
              "          element.innerHTML = '';\n",
              "          dataTable['output_type'] = 'display_data';\n",
              "          await google.colab.output.renderOutput(dataTable, element);\n",
              "          const docLink = document.createElement('div');\n",
              "          docLink.innerHTML = docLinkHtml;\n",
              "          element.appendChild(docLink);\n",
              "        }\n",
              "      </script>\n",
              "    </div>\n",
              "  </div>\n",
              "  "
            ]
          },
          "metadata": {},
          "execution_count": 34
        }
      ]
    },
    {
      "cell_type": "code",
      "source": [
        "df.reset_index(inplace=True)"
      ],
      "metadata": {
        "id": "bMkBLDSOiO9G"
      },
      "execution_count": null,
      "outputs": []
    },
    {
      "cell_type": "code",
      "source": [
        "plt.plot(df['Close'])"
      ],
      "metadata": {
        "colab": {
          "base_uri": "https://localhost:8080/",
          "height": 282
        },
        "id": "4-jJeg7qiSFE",
        "outputId": "78195fee-6887-4073-d15b-9e8ff1f1bfe0"
      },
      "execution_count": null,
      "outputs": [
        {
          "output_type": "execute_result",
          "data": {
            "text/plain": [
              "[<matplotlib.lines.Line2D at 0x7ff59fbc4d90>]"
            ]
          },
          "metadata": {},
          "execution_count": 36
        },
        {
          "output_type": "display_data",
          "data": {
            "text/plain": [
              "<Figure size 432x288 with 1 Axes>"
            ],
            "image/png": "[encoded data removed]"
          },
          "metadata": {
            "needs_background": "light"
          }
        }
      ]
    },
    {
      "cell_type": "code",
      "source": [
        "df_close = df['Close']\n",
        "df_close"
      ],
      "metadata": {
        "colab": {
          "base_uri": "https://localhost:8080/"
        },
        "id": "YsCI0aNeiV1z",
        "outputId": "49e6304e-014e-4d1b-ebe8-9604955a3da2"
      },
      "execution_count": null,
      "outputs": [
        {
          "output_type": "execute_result",
          "data": {
            "text/plain": [
              "0       121.55\n",
              "1       120.90\n",
              "2       120.65\n",
              "3       117.60\n",
              "4       118.65\n",
              "         ...  \n",
              "2030    233.30\n",
              "2031    236.10\n",
              "2032    234.25\n",
              "2033    233.25\n",
              "2034    233.75\n",
              "Name: Close, Length: 2035, dtype: float64"
            ]
          },
          "metadata": {},
          "execution_count": 37
        }
      ]
    },
    {
      "cell_type": "code",
      "source": [
        "scaler = MinMaxScaler(feature_range=(0,1))"
      ],
      "metadata": {
        "id": "jPwgCy0Yicrp"
      },
      "execution_count": null,
      "outputs": []
    },
    {
      "cell_type": "code",
      "source": [
        "df_close = scaler.fit_transform(np.array(df_close).reshape(-1,1))\n",
        "df_close"
      ],
      "metadata": {
        "colab": {
          "base_uri": "https://localhost:8080/"
        },
        "id": "s8HI_lXkifXZ",
        "outputId": "0aa41774-8e70-4943-811d-0199dd2f99bf"
      },
      "execution_count": null,
      "outputs": [
        {
          "output_type": "execute_result",
          "data": {
            "text/plain": [
              "array([[0.16584967],\n",
              "       [0.16319444],\n",
              "       [0.1621732 ],\n",
              "       ...,\n",
              "       [0.62622549],\n",
              "       [0.62214052],\n",
              "       [0.62418301]])"
            ]
          },
          "metadata": {},
          "execution_count": 39
        }
      ]
    },
    {
      "cell_type": "code",
      "source": [
        "training_size = int(len(df_close)*0.70)\n",
        "test_size = len(df_close) - training_size\n",
        "train, test = df_close[0: training_size,:], df_close[training_size : len(df_close),:1]"
      ],
      "metadata": {
        "id": "33piV2vuijqy"
      },
      "execution_count": null,
      "outputs": []
    },
    {
      "cell_type": "code",
      "source": [
        "def create_mat(ds, time_step = 1):\n",
        "    dataX, dataY = [], []\n",
        "    for i in range(len(ds)-time_step-1):\n",
        "        a = ds[i:(i+time_step),0]\n",
        "        dataX.append(a)\n",
        "        dataY.append(ds[i + time_step, 0])\n",
        "    return np.array(dataX), np.array(dataY)"
      ],
      "metadata": {
        "id": "IbG_qREHiksH"
      },
      "execution_count": null,
      "outputs": []
    },
    {
      "cell_type": "code",
      "source": [
        "time_step = 100\n",
        "X_train, y_train = create_mat(train, time_step)\n",
        "X_test, y_test = create_mat(test, time_step)"
      ],
      "metadata": {
        "id": "N9_jkGZhinMz"
      },
      "execution_count": null,
      "outputs": []
    },
    {
      "cell_type": "code",
      "source": [
        "X_train.shape"
      ],
      "metadata": {
        "colab": {
          "base_uri": "https://localhost:8080/"
        },
        "id": "m-WSadSWirhl",
        "outputId": "50d3371a-346a-421d-cbeb-75d77ab4aac3"
      },
      "execution_count": null,
      "outputs": [
        {
          "output_type": "execute_result",
          "data": {
            "text/plain": [
              "(1323, 100)"
            ]
          },
          "metadata": {},
          "execution_count": 43
        }
      ]
    },
    {
      "cell_type": "code",
      "source": [
        "y_train.shape"
      ],
      "metadata": {
        "colab": {
          "base_uri": "https://localhost:8080/"
        },
        "id": "Eflsjfexisj4",
        "outputId": "b9118666-a415-4a3a-d2b3-27c614d4723b"
      },
      "execution_count": null,
      "outputs": [
        {
          "output_type": "execute_result",
          "data": {
            "text/plain": [
              "(1323,)"
            ]
          },
          "metadata": {},
          "execution_count": 44
        }
      ]
    },
    {
      "cell_type": "code",
      "source": [
        "X_test.shape"
      ],
      "metadata": {
        "colab": {
          "base_uri": "https://localhost:8080/"
        },
        "id": "yX7VaTbxiutb",
        "outputId": "99803b90-0893-4452-e80d-c3a67e713777"
      },
      "execution_count": null,
      "outputs": [
        {
          "output_type": "execute_result",
          "data": {
            "text/plain": [
              "(510, 100)"
            ]
          },
          "metadata": {},
          "execution_count": 45
        }
      ]
    },
    {
      "cell_type": "code",
      "source": [
        "y_test.shape"
      ],
      "metadata": {
        "colab": {
          "base_uri": "https://localhost:8080/"
        },
        "id": "WeSuHD-biw1y",
        "outputId": "b22d813b-9771-4473-d4cc-84d81d7b0796"
      },
      "execution_count": null,
      "outputs": [
        {
          "output_type": "execute_result",
          "data": {
            "text/plain": [
              "(510,)"
            ]
          },
          "metadata": {},
          "execution_count": 46
        }
      ]
    },
    {
      "cell_type": "code",
      "source": [
        "X_train = X_train.reshape(X_train.shape[0], X_train.shape[1], 1)\n",
        "X_test = X_test.reshape(X_test.shape[0], X_test.shape[1], 1)"
      ],
      "metadata": {
        "id": "ayI14Xd0izl6"
      },
      "execution_count": null,
      "outputs": []
    },
    {
      "cell_type": "code",
      "source": [
        "from tensorflow.keras.models import Sequential\n",
        "from tensorflow.keras.layers import Dense\n",
        "from tensorflow.keras.layers import LSTM"
      ],
      "metadata": {
        "id": "cpxqI_lzi1-3"
      },
      "execution_count": null,
      "outputs": []
    },
    {
      "cell_type": "code",
      "source": [
        "model = Sequential()\n",
        "model.add(LSTM(50,return_sequences=True,input_shape=(100,1)))\n",
        "model.add(LSTM(50,return_sequences=True))\n",
        "model.add(LSTM(50))\n",
        "model.add(Dense(1))\n",
        "model.compile(loss='mean_squared_error',optimizer='adam')\n",
        "model.summary()"
      ],
      "metadata": {
        "colab": {
          "base_uri": "https://localhost:8080/"
        },
        "id": "rXcLDziSi4QI",
        "outputId": "feb6c754-e927-4889-c2c1-5ff818f7c0bf"
      },
      "execution_count": null,
      "outputs": [
        {
          "output_type": "stream",
          "name": "stdout",
          "text": [
            "Model: \"sequential_1\"\n",
            "_________________________________________________________________\n",
            " Layer (type)                Output Shape              Param #   \n",
            "=================================================================\n",
            " lstm_3 (LSTM)               (None, 100, 50)           10400     \n",
            "                                                                 \n",
            " lstm_4 (LSTM)               (None, 100, 50)           20200     \n",
            "                                                                 \n",
            " lstm_5 (LSTM)               (None, 50)                20200     \n",
            "                                                                 \n",
            " dense_1 (Dense)             (None, 1)                 51        \n",
            "                                                                 \n",
            "=================================================================\n",
            "Total params: 50,851\n",
            "Trainable params: 50,851\n",
            "Non-trainable params: 0\n",
            "_________________________________________________________________\n"
          ]
        }
      ]
    },
    {
      "cell_type": "code",
      "source": [
        "model.fit(X_train, y_train, validation_split=0.1, epochs= 60, batch_size=64, verbose = 1)"
      ],
      "metadata": {
        "colab": {
          "base_uri": "https://localhost:8080/"
        },
        "id": "2cugMeMLjAt2",
        "outputId": "f25ec1d3-db50-4b7e-ce67-c2a9bbbc6bc3"
      },
      "execution_count": null,
      "outputs": [
        {
          "output_type": "stream",
          "name": "stdout",
          "text": [
            "Epoch 1/60\n",
            "19/19 [==============================] - 7s 151ms/step - loss: 0.0148 - val_loss: 0.0014\n",
            "Epoch 2/60\n",
            "19/19 [==============================] - 2s 107ms/step - loss: 0.0022 - val_loss: 0.0012\n",
            "Epoch 3/60\n",
            "19/19 [==============================] - 2s 106ms/step - loss: 9.3095e-04 - val_loss: 0.0011\n",
            "Epoch 4/60\n",
            "19/19 [==============================] - 2s 108ms/step - loss: 8.1976e-04 - val_loss: 0.0011\n",
            "Epoch 5/60\n",
            "19/19 [==============================] - 2s 105ms/step - loss: 7.9658e-04 - val_loss: 0.0010\n",
            "Epoch 6/60\n",
            "19/19 [==============================] - 2s 108ms/step - loss: 7.7299e-04 - val_loss: 0.0010\n",
            "Epoch 7/60\n",
            "19/19 [==============================] - 2s 106ms/step - loss: 7.5602e-04 - val_loss: 9.6847e-04\n",
            "Epoch 8/60\n",
            "19/19 [==============================] - 2s 107ms/step - loss: 7.7645e-04 - val_loss: 0.0010\n",
            "Epoch 9/60\n",
            "19/19 [==============================] - 2s 105ms/step - loss: 7.4214e-04 - val_loss: 9.4384e-04\n",
            "Epoch 10/60\n",
            "19/19 [==============================] - 2s 121ms/step - loss: 7.0584e-04 - val_loss: 8.7771e-04\n",
            "Epoch 11/60\n",
            "19/19 [==============================] - 3s 138ms/step - loss: 7.0630e-04 - val_loss: 8.9980e-04\n",
            "Epoch 12/60\n",
            "19/19 [==============================] - 2s 106ms/step - loss: 7.2839e-04 - val_loss: 8.0150e-04\n",
            "Epoch 13/60\n",
            "19/19 [==============================] - 2s 105ms/step - loss: 6.8439e-04 - val_loss: 8.0184e-04\n",
            "Epoch 14/60\n",
            "19/19 [==============================] - 2s 106ms/step - loss: 6.3637e-04 - val_loss: 7.6814e-04\n",
            "Epoch 15/60\n",
            "19/19 [==============================] - 2s 106ms/step - loss: 6.2297e-04 - val_loss: 7.8983e-04\n",
            "Epoch 16/60\n",
            "19/19 [==============================] - 2s 108ms/step - loss: 6.2457e-04 - val_loss: 6.9008e-04\n",
            "Epoch 17/60\n",
            "19/19 [==============================] - 2s 107ms/step - loss: 6.0773e-04 - val_loss: 7.3610e-04\n",
            "Epoch 18/60\n",
            "19/19 [==============================] - 2s 107ms/step - loss: 5.9036e-04 - val_loss: 6.8448e-04\n",
            "Epoch 19/60\n",
            "19/19 [==============================] - 2s 107ms/step - loss: 5.7312e-04 - val_loss: 6.4900e-04\n",
            "Epoch 20/60\n",
            "19/19 [==============================] - 2s 108ms/step - loss: 5.9583e-04 - val_loss: 6.2438e-04\n",
            "Epoch 21/60\n",
            "19/19 [==============================] - 2s 107ms/step - loss: 5.9148e-04 - val_loss: 6.0340e-04\n",
            "Epoch 22/60\n",
            "19/19 [==============================] - 2s 107ms/step - loss: 5.5740e-04 - val_loss: 6.1753e-04\n",
            "Epoch 23/60\n",
            "19/19 [==============================] - 2s 105ms/step - loss: 5.3544e-04 - val_loss: 5.9846e-04\n",
            "Epoch 24/60\n",
            "19/19 [==============================] - 2s 106ms/step - loss: 5.1448e-04 - val_loss: 5.9597e-04\n",
            "Epoch 25/60\n",
            "19/19 [==============================] - 2s 103ms/step - loss: 5.0710e-04 - val_loss: 5.3167e-04\n",
            "Epoch 26/60\n",
            "19/19 [==============================] - 2s 105ms/step - loss: 5.0694e-04 - val_loss: 5.2480e-04\n",
            "Epoch 27/60\n",
            "19/19 [==============================] - 2s 105ms/step - loss: 4.8555e-04 - val_loss: 5.8002e-04\n",
            "Epoch 28/60\n",
            "19/19 [==============================] - 2s 106ms/step - loss: 4.7519e-04 - val_loss: 4.9472e-04\n",
            "Epoch 29/60\n",
            "19/19 [==============================] - 2s 107ms/step - loss: 4.6841e-04 - val_loss: 4.9534e-04\n",
            "Epoch 30/60\n",
            "19/19 [==============================] - 2s 105ms/step - loss: 4.6446e-04 - val_loss: 4.8441e-04\n",
            "Epoch 31/60\n",
            "19/19 [==============================] - 2s 106ms/step - loss: 4.4228e-04 - val_loss: 5.6632e-04\n",
            "Epoch 32/60\n",
            "19/19 [==============================] - 2s 106ms/step - loss: 4.4541e-04 - val_loss: 5.1931e-04\n",
            "Epoch 33/60\n",
            "19/19 [==============================] - 2s 105ms/step - loss: 4.2556e-04 - val_loss: 4.1807e-04\n",
            "Epoch 34/60\n",
            "19/19 [==============================] - 2s 107ms/step - loss: 4.1668e-04 - val_loss: 4.6995e-04\n",
            "Epoch 35/60\n",
            "19/19 [==============================] - 2s 109ms/step - loss: 4.2606e-04 - val_loss: 4.0460e-04\n",
            "Epoch 36/60\n",
            "19/19 [==============================] - 2s 105ms/step - loss: 4.2179e-04 - val_loss: 5.3985e-04\n",
            "Epoch 37/60\n",
            "19/19 [==============================] - 2s 106ms/step - loss: 4.0855e-04 - val_loss: 3.7697e-04\n",
            "Epoch 38/60\n",
            "19/19 [==============================] - 2s 105ms/step - loss: 4.0783e-04 - val_loss: 3.5105e-04\n",
            "Epoch 39/60\n",
            "19/19 [==============================] - 2s 107ms/step - loss: 3.7844e-04 - val_loss: 3.9619e-04\n",
            "Epoch 40/60\n",
            "19/19 [==============================] - 2s 107ms/step - loss: 3.6044e-04 - val_loss: 3.5438e-04\n",
            "Epoch 41/60\n",
            "19/19 [==============================] - 2s 108ms/step - loss: 3.5214e-04 - val_loss: 3.2553e-04\n",
            "Epoch 42/60\n",
            "19/19 [==============================] - 2s 111ms/step - loss: 3.3220e-04 - val_loss: 3.2479e-04\n",
            "Epoch 43/60\n",
            "19/19 [==============================] - 2s 107ms/step - loss: 3.3189e-04 - val_loss: 2.9669e-04\n",
            "Epoch 44/60\n",
            "19/19 [==============================] - 2s 107ms/step - loss: 3.2522e-04 - val_loss: 3.7757e-04\n",
            "Epoch 45/60\n",
            "19/19 [==============================] - 2s 106ms/step - loss: 3.2312e-04 - val_loss: 2.7188e-04\n",
            "Epoch 46/60\n",
            "19/19 [==============================] - 2s 106ms/step - loss: 3.1282e-04 - val_loss: 2.7509e-04\n",
            "Epoch 47/60\n",
            "19/19 [==============================] - 2s 108ms/step - loss: 2.8914e-04 - val_loss: 2.8011e-04\n",
            "Epoch 48/60\n",
            "19/19 [==============================] - 2s 107ms/step - loss: 3.0040e-04 - val_loss: 2.5212e-04\n",
            "Epoch 49/60\n",
            "19/19 [==============================] - 2s 107ms/step - loss: 2.8203e-04 - val_loss: 2.4128e-04\n",
            "Epoch 50/60\n",
            "19/19 [==============================] - 2s 108ms/step - loss: 2.8480e-04 - val_loss: 2.7109e-04\n",
            "Epoch 51/60\n",
            "19/19 [==============================] - 2s 104ms/step - loss: 2.7386e-04 - val_loss: 2.4039e-04\n",
            "Epoch 52/60\n",
            "19/19 [==============================] - 2s 107ms/step - loss: 2.7404e-04 - val_loss: 2.3108e-04\n",
            "Epoch 53/60\n",
            "19/19 [==============================] - 2s 106ms/step - loss: 2.5374e-04 - val_loss: 2.1933e-04\n",
            "Epoch 54/60\n",
            "19/19 [==============================] - 2s 107ms/step - loss: 2.5062e-04 - val_loss: 2.1162e-04\n",
            "Epoch 55/60\n",
            "19/19 [==============================] - 2s 107ms/step - loss: 2.3619e-04 - val_loss: 2.3859e-04\n",
            "Epoch 56/60\n",
            "19/19 [==============================] - 2s 107ms/step - loss: 2.3871e-04 - val_loss: 2.3575e-04\n",
            "Epoch 57/60\n",
            "19/19 [==============================] - 2s 107ms/step - loss: 2.3169e-04 - val_loss: 1.8964e-04\n",
            "Epoch 58/60\n",
            "19/19 [==============================] - 2s 106ms/step - loss: 2.2246e-04 - val_loss: 1.8949e-04\n",
            "Epoch 59/60\n",
            "19/19 [==============================] - 2s 105ms/step - loss: 2.3082e-04 - val_loss: 2.5554e-04\n",
            "Epoch 60/60\n",
            "19/19 [==============================] - 2s 108ms/step - loss: 2.2950e-04 - val_loss: 2.5635e-04\n"
          ]
        },
        {
          "output_type": "execute_result",
          "data": {
            "text/plain": [
              "<keras.callbacks.History at 0x7ff5a0021e90>"
            ]
          },
          "metadata": {},
          "execution_count": 21
        }
      ]
    },
    {
      "cell_type": "code",
      "source": [
        "predictions = model.predict(X_test)"
      ],
      "metadata": {
        "id": "6SREGvxNk0VQ"
      },
      "execution_count": null,
      "outputs": []
    },
    {
      "cell_type": "code",
      "source": [
        "inv_predictions = scaler.inverse_transform(predictions)"
      ],
      "metadata": {
        "id": "r1TMEOBzk5jh"
      },
      "execution_count": null,
      "outputs": []
    },
    {
      "cell_type": "code",
      "source": [
        "inv_predictions"
      ],
      "metadata": {
        "colab": {
          "base_uri": "https://localhost:8080/"
        },
        "id": "arjP_AbRk6lw",
        "outputId": "965bfc1d-d7f7-4717-c7a6-7150d75da2b2"
      },
      "execution_count": null,
      "outputs": [
        {
          "output_type": "execute_result",
          "data": {
            "text/plain": [
              "array([[143.91032 ],\n",
              "       [144.17432 ],\n",
              "       [143.48744 ],\n",
              "       [141.17044 ],\n",
              "       [139.42519 ],\n",
              "       [138.60916 ],\n",
              "       [139.39145 ],\n",
              "       [140.7936  ],\n",
              "       [141.3962  ],\n",
              "       [141.29944 ],\n",
              "       [141.15498 ],\n",
              "       [142.12358 ],\n",
              "       [142.88063 ],\n",
              "       [144.30463 ],\n",
              "       [146.33554 ],\n",
              "       [144.9815  ],\n",
              "       [142.84302 ],\n",
              "       [142.13179 ],\n",
              "       [142.38455 ],\n",
              "       [146.51588 ],\n",
              "       [150.76674 ],\n",
              "       [153.41174 ],\n",
              "       [154.3622  ],\n",
              "       [152.94002 ],\n",
              "       [152.54248 ],\n",
              "       [152.10963 ],\n",
              "       [152.25568 ],\n",
              "       [153.60938 ],\n",
              "       [154.42668 ],\n",
              "       [154.6583  ],\n",
              "       [155.10664 ],\n",
              "       [154.25717 ],\n",
              "       [151.48698 ],\n",
              "       [146.32507 ],\n",
              "       [142.60632 ],\n",
              "       [141.01288 ],\n",
              "       [140.76721 ],\n",
              "       [140.06293 ],\n",
              "       [138.13991 ],\n",
              "       [134.86418 ],\n",
              "       [132.29004 ],\n",
              "       [130.82503 ],\n",
              "       [128.7396  ],\n",
              "       [127.70497 ],\n",
              "       [125.75704 ],\n",
              "       [123.22331 ],\n",
              "       [122.21932 ],\n",
              "       [121.722   ],\n",
              "       [121.8129  ],\n",
              "       [120.99812 ],\n",
              "       [120.1329  ],\n",
              "       [119.61607 ],\n",
              "       [118.790016],\n",
              "       [118.73144 ],\n",
              "       [119.786095],\n",
              "       [121.4102  ],\n",
              "       [123.288345],\n",
              "       [124.26422 ],\n",
              "       [124.26667 ],\n",
              "       [124.279526],\n",
              "       [124.35796 ],\n",
              "       [124.18538 ],\n",
              "       [124.29824 ],\n",
              "       [124.635445],\n",
              "       [124.882065],\n",
              "       [125.00979 ],\n",
              "       [124.91924 ],\n",
              "       [125.1893  ],\n",
              "       [125.62641 ],\n",
              "       [126.021454],\n",
              "       [125.494606],\n",
              "       [124.63373 ],\n",
              "       [123.361885],\n",
              "       [122.083405],\n",
              "       [120.737724],\n",
              "       [120.58548 ],\n",
              "       [121.0056  ],\n",
              "       [121.89583 ],\n",
              "       [122.99587 ],\n",
              "       [124.25345 ],\n",
              "       [125.45756 ],\n",
              "       [126.258804],\n",
              "       [126.75485 ],\n",
              "       [126.80837 ],\n",
              "       [126.61318 ],\n",
              "       [126.28656 ],\n",
              "       [126.799515],\n",
              "       [127.116   ],\n",
              "       [127.968155],\n",
              "       [128.79282 ],\n",
              "       [129.31725 ],\n",
              "       [129.8085  ],\n",
              "       [130.68724 ],\n",
              "       [130.48724 ],\n",
              "       [130.03743 ],\n",
              "       [129.84991 ],\n",
              "       [129.8937  ],\n",
              "       [130.27574 ],\n",
              "       [131.0801  ],\n",
              "       [131.45816 ],\n",
              "       [131.76033 ],\n",
              "       [134.04185 ],\n",
              "       [138.08475 ],\n",
              "       [142.06024 ],\n",
              "       [144.25427 ],\n",
              "       [145.99335 ],\n",
              "       [146.4228  ],\n",
              "       [145.97723 ],\n",
              "       [144.6986  ],\n",
              "       [143.24742 ],\n",
              "       [141.5769  ],\n",
              "       [140.82715 ],\n",
              "       [140.97833 ],\n",
              "       [142.031   ],\n",
              "       [143.24962 ],\n",
              "       [143.64291 ],\n",
              "       [143.20598 ],\n",
              "       [142.40208 ],\n",
              "       [141.4479  ],\n",
              "       [142.38663 ],\n",
              "       [143.35141 ],\n",
              "       [144.48    ],\n",
              "       [145.28493 ],\n",
              "       [145.44579 ],\n",
              "       [144.77505 ],\n",
              "       [143.70682 ],\n",
              "       [141.70781 ],\n",
              "       [140.6002  ],\n",
              "       [140.89275 ],\n",
              "       [142.98343 ],\n",
              "       [145.36096 ],\n",
              "       [147.47652 ],\n",
              "       [148.54791 ],\n",
              "       [147.79494 ],\n",
              "       [148.98463 ],\n",
              "       [150.90546 ],\n",
              "       [151.56026 ],\n",
              "       [151.82497 ],\n",
              "       [151.93408 ],\n",
              "       [151.82722 ],\n",
              "       [151.80853 ],\n",
              "       [152.34491 ],\n",
              "       [153.28548 ],\n",
              "       [154.2456  ],\n",
              "       [154.06981 ],\n",
              "       [153.47472 ],\n",
              "       [153.79698 ],\n",
              "       [154.01057 ],\n",
              "       [153.59879 ],\n",
              "       [152.66838 ],\n",
              "       [151.42558 ],\n",
              "       [151.18187 ],\n",
              "       [152.24843 ],\n",
              "       [153.293   ],\n",
              "       [154.0541  ],\n",
              "       [154.30188 ],\n",
              "       [154.86534 ],\n",
              "       [154.86469 ],\n",
              "       [154.82784 ],\n",
              "       [156.35931 ],\n",
              "       [157.68314 ],\n",
              "       [157.97395 ],\n",
              "       [156.58177 ],\n",
              "       [154.98932 ],\n",
              "       [154.51701 ],\n",
              "       [155.12761 ],\n",
              "       [155.75114 ],\n",
              "       [155.64624 ],\n",
              "       [155.88246 ],\n",
              "       [156.24844 ],\n",
              "       [155.97726 ],\n",
              "       [153.63838 ],\n",
              "       [151.76341 ],\n",
              "       [150.42322 ],\n",
              "       [148.80098 ],\n",
              "       [146.57571 ],\n",
              "       [145.28404 ],\n",
              "       [146.24489 ],\n",
              "       [147.55199 ],\n",
              "       [148.42719 ],\n",
              "       [149.93614 ],\n",
              "       [152.2453  ],\n",
              "       [154.879   ],\n",
              "       [156.6553  ],\n",
              "       [156.56589 ],\n",
              "       [156.34087 ],\n",
              "       [155.93327 ],\n",
              "       [155.50351 ],\n",
              "       [154.48808 ],\n",
              "       [155.04988 ],\n",
              "       [157.07954 ],\n",
              "       [159.33653 ],\n",
              "       [160.52362 ],\n",
              "       [160.1008  ],\n",
              "       [159.24051 ],\n",
              "       [158.59079 ],\n",
              "       [157.62473 ],\n",
              "       [155.61002 ],\n",
              "       [152.55449 ],\n",
              "       [150.8026  ],\n",
              "       [150.28352 ],\n",
              "       [151.24374 ],\n",
              "       [152.89835 ],\n",
              "       [153.69923 ],\n",
              "       [155.69714 ],\n",
              "       [156.71863 ],\n",
              "       [158.12903 ],\n",
              "       [162.26695 ],\n",
              "       [167.32144 ],\n",
              "       [172.18742 ],\n",
              "       [175.53618 ],\n",
              "       [176.24448 ],\n",
              "       [176.3838  ],\n",
              "       [175.12187 ],\n",
              "       [174.26636 ],\n",
              "       [172.71387 ],\n",
              "       [171.93236 ],\n",
              "       [171.27133 ],\n",
              "       [171.52351 ],\n",
              "       [172.69702 ],\n",
              "       [172.45389 ],\n",
              "       [171.9011  ],\n",
              "       [171.7029  ],\n",
              "       [170.97867 ],\n",
              "       [169.30978 ],\n",
              "       [168.43135 ],\n",
              "       [168.25073 ],\n",
              "       [169.89594 ],\n",
              "       [170.02965 ],\n",
              "       [167.70691 ],\n",
              "       [162.91135 ],\n",
              "       [161.95845 ],\n",
              "       [168.8728  ],\n",
              "       [182.62735 ],\n",
              "       [192.53926 ],\n",
              "       [197.14497 ],\n",
              "       [197.82805 ],\n",
              "       [193.69562 ],\n",
              "       [191.92087 ],\n",
              "       [191.32938 ],\n",
              "       [191.10829 ],\n",
              "       [190.11488 ],\n",
              "       [192.40689 ],\n",
              "       [195.92844 ],\n",
              "       [198.24484 ],\n",
              "       [197.14337 ],\n",
              "       [196.63414 ],\n",
              "       [200.87804 ],\n",
              "       [205.07382 ],\n",
              "       [207.39932 ],\n",
              "       [208.73865 ],\n",
              "       [210.22084 ],\n",
              "       [208.75877 ],\n",
              "       [208.82472 ],\n",
              "       [208.95522 ],\n",
              "       [210.26926 ],\n",
              "       [212.86469 ],\n",
              "       [213.54472 ],\n",
              "       [212.37485 ],\n",
              "       [206.00676 ],\n",
              "       [198.81564 ],\n",
              "       [198.97768 ],\n",
              "       [199.54742 ],\n",
              "       [201.92497 ],\n",
              "       [205.27092 ],\n",
              "       [207.59082 ],\n",
              "       [207.45659 ],\n",
              "       [208.25638 ],\n",
              "       [209.00409 ],\n",
              "       [208.47713 ],\n",
              "       [207.60442 ],\n",
              "       [207.45699 ],\n",
              "       [208.90036 ],\n",
              "       [209.46701 ],\n",
              "       [209.0582  ],\n",
              "       [208.8903  ],\n",
              "       [207.37492 ],\n",
              "       [205.09024 ],\n",
              "       [203.0969  ],\n",
              "       [205.39615 ],\n",
              "       [206.40268 ],\n",
              "       [208.29683 ],\n",
              "       [214.69505 ],\n",
              "       [222.59143 ],\n",
              "       [226.70418 ],\n",
              "       [227.13644 ],\n",
              "       [224.97633 ],\n",
              "       [222.29947 ],\n",
              "       [225.45004 ],\n",
              "       [224.55367 ],\n",
              "       [222.2396  ],\n",
              "       [228.94228 ],\n",
              "       [233.66042 ],\n",
              "       [233.87447 ],\n",
              "       [238.54883 ],\n",
              "       [244.53665 ],\n",
              "       [247.80997 ],\n",
              "       [252.03249 ],\n",
              "       [261.78366 ],\n",
              "       [266.58282 ],\n",
              "       [266.73434 ],\n",
              "       [265.48312 ],\n",
              "       [266.5716  ],\n",
              "       [267.17538 ],\n",
              "       [272.95786 ],\n",
              "       [273.04013 ],\n",
              "       [275.07385 ],\n",
              "       [274.82672 ],\n",
              "       [271.5748  ],\n",
              "       [270.12082 ],\n",
              "       [267.63333 ],\n",
              "       [271.5626  ],\n",
              "       [277.71112 ],\n",
              "       [286.01712 ],\n",
              "       [283.69452 ],\n",
              "       [277.3376  ],\n",
              "       [273.65997 ],\n",
              "       [274.51294 ],\n",
              "       [278.4857  ],\n",
              "       [286.42026 ],\n",
              "       [290.57935 ],\n",
              "       [290.29657 ],\n",
              "       [290.11456 ],\n",
              "       [291.65216 ],\n",
              "       [292.27716 ],\n",
              "       [292.74747 ],\n",
              "       [298.42365 ],\n",
              "       [299.90692 ],\n",
              "       [298.13553 ],\n",
              "       [296.72253 ],\n",
              "       [297.01376 ],\n",
              "       [298.08698 ],\n",
              "       [301.43405 ],\n",
              "       [301.97818 ],\n",
              "       [300.70068 ],\n",
              "       [299.35733 ],\n",
              "       [305.979   ],\n",
              "       [308.74066 ],\n",
              "       [304.64294 ],\n",
              "       [299.7897  ],\n",
              "       [293.41812 ],\n",
              "       [292.76852 ],\n",
              "       [294.78293 ],\n",
              "       [295.51733 ],\n",
              "       [293.94098 ],\n",
              "       [292.87573 ],\n",
              "       [291.26282 ],\n",
              "       [291.75983 ],\n",
              "       [284.8724  ],\n",
              "       [279.1297  ],\n",
              "       [270.0325  ],\n",
              "       [265.14285 ],\n",
              "       [261.48615 ],\n",
              "       [268.4363  ],\n",
              "       [274.57935 ],\n",
              "       [275.07657 ],\n",
              "       [277.035   ],\n",
              "       [275.99515 ],\n",
              "       [272.4741  ],\n",
              "       [268.20004 ],\n",
              "       [262.04102 ],\n",
              "       [256.4686  ],\n",
              "       [257.00543 ],\n",
              "       [257.05093 ],\n",
              "       [261.82327 ],\n",
              "       [266.89697 ],\n",
              "       [269.53888 ],\n",
              "       [269.74484 ],\n",
              "       [268.3403  ],\n",
              "       [267.42105 ],\n",
              "       [266.2111  ],\n",
              "       [262.7023  ],\n",
              "       [263.23187 ],\n",
              "       [262.17538 ],\n",
              "       [265.6025  ],\n",
              "       [269.72366 ],\n",
              "       [271.57675 ],\n",
              "       [272.05484 ],\n",
              "       [267.7055  ],\n",
              "       [257.92847 ],\n",
              "       [253.4886  ],\n",
              "       [254.49286 ],\n",
              "       [254.47534 ],\n",
              "       [253.86952 ],\n",
              "       [256.03934 ],\n",
              "       [258.69293 ],\n",
              "       [256.9381  ],\n",
              "       [264.41833 ],\n",
              "       [269.02222 ],\n",
              "       [266.72668 ],\n",
              "       [264.8302  ],\n",
              "       [263.9519  ],\n",
              "       [266.57812 ],\n",
              "       [267.47253 ],\n",
              "       [266.3816  ],\n",
              "       [265.516   ],\n",
              "       [266.33218 ],\n",
              "       [269.56842 ],\n",
              "       [272.32617 ],\n",
              "       [274.90002 ],\n",
              "       [276.88748 ],\n",
              "       [277.33322 ],\n",
              "       [275.36865 ],\n",
              "       [273.58383 ],\n",
              "       [276.33746 ],\n",
              "       [279.96542 ],\n",
              "       [282.02573 ],\n",
              "       [285.31467 ],\n",
              "       [284.1293  ],\n",
              "       [278.79742 ],\n",
              "       [276.36633 ],\n",
              "       [280.12302 ],\n",
              "       [280.92337 ],\n",
              "       [281.68622 ],\n",
              "       [278.33713 ],\n",
              "       [277.19077 ],\n",
              "       [259.82507 ],\n",
              "       [241.40753 ],\n",
              "       [234.20453 ],\n",
              "       [239.12413 ],\n",
              "       [243.92834 ],\n",
              "       [245.38612 ],\n",
              "       [246.8232  ],\n",
              "       [248.68631 ],\n",
              "       [251.2159  ],\n",
              "       [253.5494  ],\n",
              "       [255.24658 ],\n",
              "       [253.484   ],\n",
              "       [254.94872 ],\n",
              "       [259.02115 ],\n",
              "       [258.13016 ],\n",
              "       [251.76161 ],\n",
              "       [252.27756 ],\n",
              "       [256.23166 ],\n",
              "       [259.73956 ],\n",
              "       [261.05295 ],\n",
              "       [259.19452 ],\n",
              "       [259.57498 ],\n",
              "       [261.59433 ],\n",
              "       [267.26865 ],\n",
              "       [267.51062 ],\n",
              "       [267.37042 ],\n",
              "       [262.68777 ],\n",
              "       [255.9734  ],\n",
              "       [251.5278  ],\n",
              "       [252.99086 ],\n",
              "       [257.09714 ],\n",
              "       [261.26007 ],\n",
              "       [261.9878  ],\n",
              "       [260.1111  ],\n",
              "       [261.29468 ],\n",
              "       [259.9048  ],\n",
              "       [267.2332  ],\n",
              "       [270.8335  ],\n",
              "       [267.26877 ],\n",
              "       [260.84433 ],\n",
              "       [262.46204 ],\n",
              "       [265.51175 ],\n",
              "       [264.3972  ],\n",
              "       [260.30594 ],\n",
              "       [254.6032  ],\n",
              "       [243.58998 ],\n",
              "       [240.44156 ],\n",
              "       [237.33383 ],\n",
              "       [233.31879 ],\n",
              "       [234.66881 ],\n",
              "       [239.75783 ],\n",
              "       [244.55145 ],\n",
              "       [241.14697 ],\n",
              "       [237.55095 ],\n",
              "       [237.42435 ],\n",
              "       [238.2043  ],\n",
              "       [240.99323 ],\n",
              "       [236.91821 ],\n",
              "       [232.50362 ],\n",
              "       [230.34563 ],\n",
              "       [232.8211  ],\n",
              "       [234.68503 ],\n",
              "       [234.6194  ],\n",
              "       [234.48486 ],\n",
              "       [232.52289 ],\n",
              "       [231.46634 ],\n",
              "       [232.92186 ],\n",
              "       [235.36032 ],\n",
              "       [238.5537  ],\n",
              "       [241.22876 ],\n",
              "       [239.65833 ],\n",
              "       [234.66595 ],\n",
              "       [229.05008 ],\n",
              "       [229.65236 ],\n",
              "       [230.48653 ],\n",
              "       [231.55775 ],\n",
              "       [233.06445 ],\n",
              "       [233.07834 ],\n",
              "       [233.70638 ],\n",
              "       [227.5512  ],\n",
              "       [221.58063 ],\n",
              "       [218.5885  ],\n",
              "       [219.37964 ],\n",
              "       [220.75337 ],\n",
              "       [218.62854 ],\n",
              "       [219.64581 ],\n",
              "       [227.01701 ],\n",
              "       [233.89984 ],\n",
              "       [235.53467 ],\n",
              "       [233.83685 ],\n",
              "       [231.47812 ],\n",
              "       [229.3646  ],\n",
              "       [229.87578 ],\n",
              "       [230.256   ]], dtype=float32)"
            ]
          },
          "metadata": {},
          "execution_count": 24
        }
      ]
    },
    {
      "cell_type": "code",
      "source": [
        "import math\n",
        "from sklearn.metrics import mean_squared_error"
      ],
      "metadata": {
        "id": "PGRslo0YlBav"
      },
      "execution_count": null,
      "outputs": []
    },
    {
      "cell_type": "code",
      "source": [
        "m = math.sqrt(mean_squared_error(y_test, predictions))\n",
        "print(\"The Mean Squared Error is: \", m)"
      ],
      "metadata": {
        "colab": {
          "base_uri": "https://localhost:8080/"
        },
        "id": "GzERDzCMlCSM",
        "outputId": "a8156683-9de1-4dda-be53-873f3f6f44b2"
      },
      "execution_count": null,
      "outputs": [
        {
          "output_type": "stream",
          "name": "stdout",
          "text": [
            "The Mean Squared Error is:  0.02988887661557008\n"
          ]
        }
      ]
    }
  ]
}